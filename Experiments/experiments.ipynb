{
 "cells": [
  {
   "cell_type": "code",
   "execution_count": 2,
   "metadata": {},
   "outputs": [
    {
     "data": {
      "text/plain": [
       "True"
      ]
     },
     "execution_count": 2,
     "metadata": {},
     "output_type": "execute_result"
    }
   ],
   "source": [
    "import os\n",
    "from dotenv import load_dotenv\n",
    "load_dotenv()"
   ]
  },
  {
   "cell_type": "code",
   "execution_count": 3,
   "metadata": {},
   "outputs": [],
   "source": [
    "google_api_key =os.getenv(\"GOOGLE_API_KEY\")"
   ]
  },
  {
   "cell_type": "code",
   "execution_count": 5,
   "metadata": {},
   "outputs": [
    {
     "name": "stdout",
     "output_type": "stream",
     "text": [
      "api_key loaded successfully\n"
     ]
    }
   ],
   "source": [
    "if google_api_key==\"\":\n",
    "    print(\"api key not loaded\")\n",
    "else:\n",
    "    print(\"api_key loaded successfully\")"
   ]
  },
  {
   "cell_type": "code",
   "execution_count": 37,
   "metadata": {},
   "outputs": [],
   "source": [
    "from llama_index.core import SimpleDirectoryReader,Settings\n",
    "from llama_index.core import VectorStoreIndex\n",
    "from llama_index.llms.gemini import Gemini\n",
    "from IPython.display import Markdown,display\n",
    "\n",
    "from llama_index.core import StorageContext,load_index_from_storage\n",
    "import google.generativeai as genai\n",
    "from llama_index.embeddings.gemini import GeminiEmbedding\n"
   ]
  },
  {
   "cell_type": "code",
   "execution_count": 15,
   "metadata": {},
   "outputs": [],
   "source": [
    "genai.configure(api_key=google_api_key)"
   ]
  },
  {
   "cell_type": "code",
   "execution_count": 39,
   "metadata": {},
   "outputs": [
    {
     "name": "stdout",
     "output_type": "stream",
     "text": [
      "models/gemini-1.0-pro-latest\n",
      "models/gemini-1.0-pro\n",
      "models/gemini-pro\n",
      "models/gemini-1.0-pro-001\n",
      "models/gemini-1.0-pro-vision-latest\n",
      "models/gemini-pro-vision\n",
      "models/gemini-1.5-pro-latest\n",
      "models/gemini-1.5-pro-001\n",
      "models/gemini-1.5-pro-002\n",
      "models/gemini-1.5-pro\n",
      "models/gemini-1.5-flash-latest\n",
      "models/gemini-1.5-flash-001\n",
      "models/gemini-1.5-flash-001-tuning\n",
      "models/gemini-1.5-flash\n",
      "models/gemini-1.5-flash-002\n",
      "models/gemini-1.5-flash-8b\n",
      "models/gemini-1.5-flash-8b-001\n",
      "models/gemini-1.5-flash-8b-latest\n",
      "models/gemini-1.5-flash-8b-exp-0827\n",
      "models/gemini-1.5-flash-8b-exp-0924\n",
      "models/gemini-2.0-flash-exp\n",
      "models/gemini-2.0-flash\n",
      "models/gemini-2.0-flash-001\n",
      "models/gemini-2.0-flash-lite-preview\n",
      "models/gemini-2.0-flash-lite-preview-02-05\n",
      "models/gemini-2.0-pro-exp\n",
      "models/gemini-2.0-pro-exp-02-05\n",
      "models/gemini-exp-1206\n",
      "models/gemini-2.0-flash-thinking-exp-01-21\n",
      "models/gemini-2.0-flash-thinking-exp\n",
      "models/gemini-2.0-flash-thinking-exp-1219\n",
      "models/learnlm-1.5-pro-experimental\n"
     ]
    }
   ],
   "source": [
    "for models in genai.list_models():\n",
    "    if \"generateContent\" in models.supported_generation_methods:\n",
    "     print(models.name)"
   ]
  },
  {
   "cell_type": "code",
   "execution_count": 27,
   "metadata": {},
   "outputs": [],
   "source": [
    "document=SimpleDirectoryReader(\"../Data\")"
   ]
  },
  {
   "cell_type": "code",
   "execution_count": 28,
   "metadata": {},
   "outputs": [],
   "source": [
    "doc=document.load_data()"
   ]
  },
  {
   "cell_type": "code",
   "execution_count": 31,
   "metadata": {},
   "outputs": [
    {
     "data": {
      "text/plain": [
       "[Document(id_='489857c1-6b76-4a4d-8b13-9c90ea847a58', embedding=None, metadata={'file_path': 'c:\\\\Users\\\\jisna\\\\Downloads\\\\QuestionAnswersystem\\\\notebook\\\\..\\\\Data\\\\ML.txt', 'file_name': 'ML.txt', 'file_type': 'text/plain', 'file_size': 6669, 'creation_date': '2025-02-06', 'last_modified_date': '2025-02-06'}, excluded_embed_metadata_keys=['file_name', 'file_type', 'file_size', 'creation_date', 'last_modified_date', 'last_accessed_date'], excluded_llm_metadata_keys=['file_name', 'file_type', 'file_size', 'creation_date', 'last_modified_date', 'last_accessed_date'], relationships={}, metadata_template='{key}: {value}', metadata_separator='\\n', text_resource=MediaResource(embeddings=None, data=None, text=\"Introduction to Machine Learning (ML)\\r\\n1. What is Machine Learning?\\r\\nMachine Learning (ML) is a subset of Artificial Intelligence (AI) that enables computers to learn from data and improve their performance on tasks without being explicitly programmed. ML systems identify patterns and make data-driven predictions or decisions.\\r\\n\\r\\nAt its core, ML involves three main components:\\r\\n\\r\\nData: The raw information used to train models.\\r\\nAlgorithms: The mathematical models that learn from data.\\r\\nComputing Power: The processing capability needed to train and run ML models.\\r\\n2. Types of Machine Learning\\r\\n(A) Supervised Learning\\r\\nSupervised learning involves training a model on a labeled dataset, where each input is associated with a corresponding output. The goal is to map inputs to outputs accurately.\\r\\n\\r\\nCommon Algorithms in Supervised Learning:\\r\\nLinear Regression – Used for predicting continuous values.\\r\\nLogistic Regression – Used for binary classification.\\r\\nDecision Trees – A tree-like structure for making decisions.\\r\\nRandom Forest – An ensemble of decision trees to improve accuracy.\\r\\nSupport Vector Machines (SVMs) – Used for classification by finding an optimal hyperplane.\\r\\nNeural Networks – Used in deep learning for complex pattern recognition.\\r\\nExamples of Supervised Learning Applications:\\r\\nSpam detection – Classifying emails as spam or not spam.\\r\\nFraud detection – Identifying fraudulent transactions in banking.\\r\\nMedical diagnosis – Predicting diseases from patient data.\\r\\n(B) Unsupervised Learning\\r\\nUnsupervised learning is used when the dataset does not have labeled outputs. The model identifies patterns and structures in the data on its own.\\r\\n\\r\\nCommon Algorithms in Unsupervised Learning:\\r\\nK-Means Clustering – Groups data into K clusters based on similarity.\\r\\nHierarchical Clustering – Builds a tree of clusters.\\r\\nPrincipal Component Analysis (PCA) – Reduces the dimensionality of data.\\r\\nAutoencoders – Used in deep learning for data compression and anomaly detection.\\r\\nExamples of Unsupervised Learning Applications:\\r\\nCustomer segmentation – Identifying different customer groups in marketing.\\r\\nAnomaly detection – Detecting fraud in banking transactions.\\r\\nTopic modeling – Grouping documents by themes in NLP.\\r\\n(C) Reinforcement Learning (RL)\\r\\nReinforcement Learning (RL) is a type of learning where an agent interacts with an environment to maximize rewards. The agent learns by trial and error, adjusting actions based on received rewards or penalties.\\r\\n\\r\\nCommon RL Algorithms:\\r\\nQ-Learning – A model-free algorithm that learns the value of actions.\\r\\nDeep Q-Networks (DQN) – Uses neural networks to approximate Q-values.\\r\\nPolicy Gradient Methods – Learn policies directly for action selection.\\r\\nActor-Critic Methods – Combines value-based and policy-based methods.\\r\\nExamples of RL Applications:\\r\\nRobotics – Training robots to walk, pick objects, or navigate environments.\\r\\nGame playing – Used in AlphaGo and OpenAI’s Dota 2 bots.\\r\\nAutonomous vehicles – Teaching cars to drive using simulated environments.\\r\\n3. Machine Learning Workflow\\r\\nA typical ML pipeline follows these key steps:\\r\\n\\r\\n(A) Data Collection & Preprocessing\\r\\nCollecting raw data from different sources (databases, APIs, sensors).\\r\\nCleaning data by handling missing values, duplicates, and outliers.\\r\\nNormalizing or standardizing features for better training.\\r\\n(B) Feature Engineering\\r\\nSelecting important features that improve model performance.\\r\\nCreating new features through transformations (e.g., polynomial features).\\r\\nHandling categorical variables through encoding techniques.\\r\\n(C) Model Selection\\r\\nChoosing an appropriate algorithm based on problem type.\\r\\nTraining the model using available data.\\r\\nEvaluating models using cross-validation techniques.\\r\\n(D) Model Evaluation\\r\\nUsing metrics like Accuracy, Precision, Recall, F1-score for classification.\\r\\nUsing Mean Squared Error (MSE), R² score for regression tasks.\\r\\nAvoiding overfitting using techniques like regularization, dropout.\\r\\n(E) Model Deployment & Monitoring\\r\\nDeploying the trained model to production (e.g., cloud, mobile, web).\\r\\nMonitoring model performance over time and updating when needed.\\r\\nHandling model drift and retraining with new data.\\r\\n4. Popular Machine Learning Libraries & Frameworks\\r\\nSeveral tools and frameworks make ML implementation easier:\\r\\n\\r\\n(A) Python Libraries\\r\\nScikit-learn – A powerful library for classical ML models.\\r\\nTensorFlow – Google's deep learning framework.\\r\\nPyTorch – A popular framework for deep learning research.\\r\\nXGBoost – A high-performance gradient boosting library.\\r\\nOpenCV – Used for image processing in ML.\\r\\n(B) Cloud ML Services\\r\\nGoogle Vertex AI – ML platform for training and deploying models.\\r\\nAWS SageMaker – Amazon’s managed ML service.\\r\\nMicrosoft Azure ML – ML service for training, deploying, and managing models.\\r\\n5. Real-World Applications of Machine Learning\\r\\n(A) Healthcare\\r\\nMedical Diagnosis – AI-powered systems help diagnose diseases from X-rays, MRI scans, and medical records.\\r\\nDrug Discovery – ML helps in identifying potential drug candidates.\\r\\n(B) Finance\\r\\nFraud Detection – ML models analyze transaction patterns to detect anomalies.\\r\\nStock Market Prediction – ML-based trading algorithms analyze trends.\\r\\n(C) Natural Language Processing (NLP)\\r\\nChatbots & Virtual Assistants – Like Siri, Alexa, and Google Assistant.\\r\\nMachine Translation – Google Translate and DeepL use ML.\\r\\n(D) Autonomous Systems\\r\\nSelf-driving cars – ML models help detect objects and make driving decisions.\\r\\nRobotics – Robots learn tasks like object manipulation and navigation.\\r\\n6. Challenges in Machine Learning\\r\\n(A) Data Challenges\\r\\nInsufficient data – Many ML models require large datasets.\\r\\nImbalanced data – Some classes may be underrepresented, causing biased predictions.\\r\\nData privacy – Sensitive user data needs secure handling.\\r\\n(B) Model Challenges\\r\\nOverfitting – Model learns noise instead of patterns.\\r\\nUnderfitting – Model fails to learn meaningful relationships in data.\\r\\nHyperparameter tuning – Choosing the right parameters affects performance.\\r\\n(C) Ethical Concerns\\r\\nBias in AI – Models may learn biases from training data.\\r\\nExplainability – Black-box models (e.g., deep learning) lack interpretability.\\r\\nConclusion\\r\\nMachine Learning has revolutionized various industries by enabling intelligent decision-making. From healthcare and finance to NLP and robotics, ML continues to shape the future. While challenges exist, advancements in algorithms, data handling, and computing power ensure that ML will remain a critical field of study and innovation.\\r\\n\\r\\n\", path=None, url=None, mimetype=None), image_resource=None, audio_resource=None, video_resource=None, text_template='{metadata_str}\\n\\n{content}')]"
      ]
     },
     "execution_count": 31,
     "metadata": {},
     "output_type": "execute_result"
    }
   ],
   "source": [
    "doc"
   ]
  },
  {
   "cell_type": "code",
   "execution_count": 30,
   "metadata": {},
   "outputs": [
    {
     "name": "stdout",
     "output_type": "stream",
     "text": [
      "Introduction to Machine Learning (ML)\n",
      "1. What is Machine Learning?\n",
      "Machine Learning (ML) is a subset of Artificial Intelligence (AI) that enables computers to learn from data and improve their performance on tasks without being explicitly programmed. ML systems identify patterns and make data-driven predictions or decisions.\n",
      "\n",
      "At its core, ML involves three main components:\n",
      "\n",
      "Data: The raw information used to train models.\n",
      "Algorithms: The mathematical models that learn from data.\n",
      "Computing Power: The processing capability needed to train and run ML models.\n",
      "2. Types of Machine Learning\n",
      "(A) Supervised Learning\n",
      "Supervised learning involves training a model on a labeled dataset, where each input is associated with a corresponding output. The goal is to map inputs to outputs accurately.\n",
      "\n",
      "Common Algorithms in Supervised Learning:\n",
      "Linear Regression – Used for predicting continuous values.\n",
      "Logistic Regression – Used for binary classification.\n",
      "Decision Trees – A tree-like structure for making decisions.\n",
      "Random Forest – An ensemble of decision trees to improve accuracy.\n",
      "Support Vector Machines (SVMs) – Used for classification by finding an optimal hyperplane.\n",
      "Neural Networks – Used in deep learning for complex pattern recognition.\n",
      "Examples of Supervised Learning Applications:\n",
      "Spam detection – Classifying emails as spam or not spam.\n",
      "Fraud detection – Identifying fraudulent transactions in banking.\n",
      "Medical diagnosis – Predicting diseases from patient data.\n",
      "(B) Unsupervised Learning\n",
      "Unsupervised learning is used when the dataset does not have labeled outputs. The model identifies patterns and structures in the data on its own.\n",
      "\n",
      "Common Algorithms in Unsupervised Learning:\n",
      "K-Means Clustering – Groups data into K clusters based on similarity.\n",
      "Hierarchical Clustering – Builds a tree of clusters.\n",
      "Principal Component Analysis (PCA) – Reduces the dimensionality of data.\n",
      "Autoencoders – Used in deep learning for data compression and anomaly detection.\n",
      "Examples of Unsupervised Learning Applications:\n",
      "Customer segmentation – Identifying different customer groups in marketing.\n",
      "Anomaly detection – Detecting fraud in banking transactions.\n",
      "Topic modeling – Grouping documents by themes in NLP.\n",
      "(C) Reinforcement Learning (RL)\n",
      "Reinforcement Learning (RL) is a type of learning where an agent interacts with an environment to maximize rewards. The agent learns by trial and error, adjusting actions based on received rewards or penalties.\n",
      "\n",
      "Common RL Algorithms:\n",
      "Q-Learning – A model-free algorithm that learns the value of actions.\n",
      "Deep Q-Networks (DQN) – Uses neural networks to approximate Q-values.\n",
      "Policy Gradient Methods – Learn policies directly for action selection.\n",
      "Actor-Critic Methods – Combines value-based and policy-based methods.\n",
      "Examples of RL Applications:\n",
      "Robotics – Training robots to walk, pick objects, or navigate environments.\n",
      "Game playing – Used in AlphaGo and OpenAI’s Dota 2 bots.\n",
      "Autonomous vehicles – Teaching cars to drive using simulated environments.\n",
      "3. Machine Learning Workflow\n",
      "A typical ML pipeline follows these key steps:\n",
      "\n",
      "(A) Data Collection & Preprocessing\n",
      "Collecting raw data from different sources (databases, APIs, sensors).\n",
      "Cleaning data by handling missing values, duplicates, and outliers.\n",
      "Normalizing or standardizing features for better training.\n",
      "(B) Feature Engineering\n",
      "Selecting important features that improve model performance.\n",
      "Creating new features through transformations (e.g., polynomial features).\n",
      "Handling categorical variables through encoding techniques.\n",
      "(C) Model Selection\n",
      "Choosing an appropriate algorithm based on problem type.\n",
      "Training the model using available data.\n",
      "Evaluating models using cross-validation techniques.\n",
      "(D) Model Evaluation\n",
      "Using metrics like Accuracy, Precision, Recall, F1-score for classification.\n",
      "Using Mean Squared Error (MSE), R² score for regression tasks.\n",
      "Avoiding overfitting using techniques like regularization, dropout.\n",
      "(E) Model Deployment & Monitoring\n",
      "Deploying the trained model to production (e.g., cloud, mobile, web).\n",
      "Monitoring model performance over time and updating when needed.\n",
      "Handling model drift and retraining with new data.\n",
      "4. Popular Machine Learning Libraries & Frameworks\n",
      "Several tools and frameworks make ML implementation easier:\n",
      "\n",
      "(A) Python Libraries\n",
      "Scikit-learn – A powerful library for classical ML models.\n",
      "TensorFlow – Google's deep learning framework.\n",
      "PyTorch – A popular framework for deep learning research.\n",
      "XGBoost – A high-performance gradient boosting library.\n",
      "OpenCV – Used for image processing in ML.\n",
      "(B) Cloud ML Services\n",
      "Google Vertex AI – ML platform for training and deploying models.\n",
      "AWS SageMaker – Amazon’s managed ML service.\n",
      "Microsoft Azure ML – ML service for training, deploying, and managing models.\n",
      "5. Real-World Applications of Machine Learning\n",
      "(A) Healthcare\n",
      "Medical Diagnosis – AI-powered systems help diagnose diseases from X-rays, MRI scans, and medical records.\n",
      "Drug Discovery – ML helps in identifying potential drug candidates.\n",
      "(B) Finance\n",
      "Fraud Detection – ML models analyze transaction patterns to detect anomalies.\n",
      "Stock Market Prediction – ML-based trading algorithms analyze trends.\n",
      "(C) Natural Language Processing (NLP)\n",
      "Chatbots & Virtual Assistants – Like Siri, Alexa, and Google Assistant.\n",
      "Machine Translation – Google Translate and DeepL use ML.\n",
      "(D) Autonomous Systems\n",
      "Self-driving cars – ML models help detect objects and make driving decisions.\n",
      "Robotics – Robots learn tasks like object manipulation and navigation.\n",
      "6. Challenges in Machine Learning\n",
      "(A) Data Challenges\n",
      "Insufficient data – Many ML models require large datasets.\n",
      "Imbalanced data – Some classes may be underrepresented, causing biased predictions.\n",
      "Data privacy – Sensitive user data needs secure handling.\n",
      "(B) Model Challenges\n",
      "Overfitting – Model learns noise instead of patterns.\n",
      "Underfitting – Model fails to learn meaningful relationships in data.\n",
      "Hyperparameter tuning – Choosing the right parameters affects performance.\n",
      "(C) Ethical Concerns\n",
      "Bias in AI – Models may learn biases from training data.\n",
      "Explainability – Black-box models (e.g., deep learning) lack interpretability.\n",
      "Conclusion\n",
      "Machine Learning has revolutionized various industries by enabling intelligent decision-making. From healthcare and finance to NLP and robotics, ML continues to shape the future. While challenges exist, advancements in algorithms, data handling, and computing power ensure that ML will remain a critical field of study and innovation.\n"
     ]
    }
   ],
   "source": [
    "print(doc[0].text)"
   ]
  },
  {
   "cell_type": "code",
   "execution_count": 41,
   "metadata": {},
   "outputs": [],
   "source": [
    "Settings.llm=Gemini(models=\"gemini-pro\",api_key=google_api_key)"
   ]
  },
  {
   "cell_type": "code",
   "execution_count": 42,
   "metadata": {},
   "outputs": [],
   "source": [
    "Settings.embed_model=GeminiEmbedding(model_name=\"models/embedding-001\")"
   ]
  },
  {
   "cell_type": "code",
   "execution_count": 44,
   "metadata": {},
   "outputs": [],
   "source": [
    "index=VectorStoreIndex.from_documents(doc,llm=Settings.llm,embed_model=Settings.embed_model,chunck_size=200,chunk_overlap=20)"
   ]
  },
  {
   "cell_type": "code",
   "execution_count": 49,
   "metadata": {},
   "outputs": [],
   "source": [
    "index.storage_context.persist()"
   ]
  },
  {
   "cell_type": "code",
   "execution_count": 45,
   "metadata": {},
   "outputs": [],
   "source": [
    "query_engine=index.as_query_engine()\n",
    "response=query_engine.query(\"What is machine learning\")"
   ]
  },
  {
   "cell_type": "code",
   "execution_count": 48,
   "metadata": {},
   "outputs": [
    {
     "name": "stdout",
     "output_type": "stream",
     "text": [
      "Machine Learning (ML) is a subset of Artificial Intelligence (AI) that enables computers to learn from data and improve their performance on tasks without explicit programming. ML systems identify patterns and make data-driven predictions or decisions. At its core, ML involves data, algorithms, and computing power.\n",
      "\n"
     ]
    }
   ],
   "source": [
    "print(response)"
   ]
  },
  {
   "cell_type": "code",
   "execution_count": 57,
   "metadata": {},
   "outputs": [],
   "source": [
    "response2=query_engine.query(\"What is supervised learning or unsuperlearning\")"
   ]
  },
  {
   "cell_type": "code",
   "execution_count": 58,
   "metadata": {},
   "outputs": [
    {
     "data": {
      "text/plain": [
       "'Supervised learning involves training a model on a labeled dataset, where each input is associated with a corresponding output, with the goal of accurately mapping inputs to outputs. Unsupervised learning is used when the dataset does not have labeled outputs, and the model identifies patterns and structures in the data on its own.\\n'"
      ]
     },
     "execution_count": 58,
     "metadata": {},
     "output_type": "execute_result"
    }
   ],
   "source": [
    "response2.response"
   ]
  }
 ],
 "metadata": {
  "kernelspec": {
   "display_name": "Python 3",
   "language": "python",
   "name": "python3"
  },
  "language_info": {
   "codemirror_mode": {
    "name": "ipython",
    "version": 3
   },
   "file_extension": ".py",
   "mimetype": "text/x-python",
   "name": "python",
   "nbconvert_exporter": "python",
   "pygments_lexer": "ipython3",
   "version": "3.9.21"
  }
 },
 "nbformat": 4,
 "nbformat_minor": 2
}
